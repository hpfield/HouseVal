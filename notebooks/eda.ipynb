{
  "cells": [
    {
      "cell_type": "markdown",
      "metadata": {},
      "source": [
        "# Perform exploratory data analysis\n",
        "\n",
        "Regression problem with around 80 features, combination of numerical and categorical in the form of Strings. Target value is SalePrice"
      ]
    },
    {
      "cell_type": "code",
      "execution_count": null,
      "metadata": {},
      "outputs": [],
      "source": [
        "import pandas as pd\n",
        "import seaborn as sns\n",
        "import matplotlib.pyplot as plt\n",
        "import numpy as np\n",
        "\n",
        "pd.set_option('display.max_columns', None)\n"
      ]
    },
    {
      "cell_type": "code",
      "execution_count": null,
      "metadata": {},
      "outputs": [],
      "source": [
        "# Grab the training data for analysis\n",
        "train = pd.read_csv('../data/raw/train.csv')"
      ]
    },
    {
      "cell_type": "code",
      "execution_count": null,
      "metadata": {},
      "outputs": [],
      "source": [
        "# Remove the Id column for our analysis\n",
        "df= train.drop('Id', axis=1)\n",
        "print(df.shape)\n",
        "df.info()"
      ]
    },
    {
      "cell_type": "code",
      "execution_count": null,
      "metadata": {},
      "outputs": [],
      "source": [
        "df.describe()"
      ]
    },
    {
      "cell_type": "code",
      "execution_count": null,
      "metadata": {},
      "outputs": [],
      "source": [
        "df.describe(include=['O'])"
      ]
    },
    {
      "cell_type": "code",
      "execution_count": null,
      "metadata": {},
      "outputs": [],
      "source": [
        "missing = df.isnull().sum()\n",
        "missing"
      ]
    },
    {
      "cell_type": "code",
      "execution_count": null,
      "metadata": {},
      "outputs": [],
      "source": [
        "numerical = df.select_dtypes(include=['int64', 'float64']).columns\n",
        "categorical = df.select_dtypes(include=['object']).columns"
      ]
    },
    {
      "cell_type": "code",
      "execution_count": null,
      "metadata": {},
      "outputs": [],
      "source": [
        "n_df = df[numerical]\n",
        "c_df = df[categorical]"
      ]
    },
    {
      "cell_type": "code",
      "execution_count": null,
      "metadata": {},
      "outputs": [],
      "source": [
        "n_df.hist(figsize=(16, 20))"
      ]
    },
    {
      "cell_type": "code",
      "execution_count": null,
      "metadata": {},
      "outputs": [],
      "source": [
        "# Create box plots for each feature\n",
        "for i in range(0, len(numerical), 5):\n",
        "    sns.pairplot(data=df,\n",
        "                x_vars=numerical[i:i+5],\n",
        "                y_vars=['SalePrice'])\n",
        "    "
      ]
    },
    {
      "cell_type": "code",
      "execution_count": null,
      "metadata": {},
      "outputs": [],
      "source": [
        "# pairplots for categorical data\n",
        "for i in range(0, len(categorical), 5):\n",
        "    sns.pairplot(data=df,\n",
        "                x_vars=categorical[i:i+5],\n",
        "                y_vars=['SalePrice'])"
      ]
    },
    {
      "cell_type": "code",
      "execution_count": null,
      "metadata": {},
      "outputs": [],
      "source": [
        "plt.figure(figsize=(10,8))\n",
        "sns.heatmap(n_df.corr())"
      ]
    },
    {
      "cell_type": "code",
      "execution_count": null,
      "metadata": {},
      "outputs": [],
      "source": [
        "# Store the correlation of each feature wrt SalePrice and the number of missing values in a dict\n",
        "correlation_matrix = n_df.corr()\n",
        "\n",
        "result_dict = {}\n",
        "total = df.shape[0]\n",
        "\n",
        "for column in n_df.columns:\n",
        "    correlation_with_target = correlation_matrix['SalePrice'].get(column)  \n",
        "    missing_values_count = df[column].isnull().sum() / total\n",
        "    result_dict[column] = {'correlation': correlation_with_target, 'missing': missing_values_count}\n"
      ]
    },
    {
      "cell_type": "code",
      "execution_count": null,
      "metadata": {},
      "outputs": [],
      "source": [
        "\n",
        "# Assuming 'result_dict' contains the data as described in your code\n",
        "\n",
        "# Extract feature names, correlations, and missing values\n",
        "features = list(result_dict.keys())\n",
        "correlations = [abs(result_dict[feature]['correlation']) for feature in features]\n",
        "missing_values = [result_dict[feature]['missing'] for feature in features]\n",
        "\n",
        "# Set up the figure and axis\n",
        "fig, ax = plt.subplots(figsize=(10, 8))\n",
        "index = np.arange(len(features))\n",
        "bar_width = 0.35\n",
        "opacity = 0.8\n",
        "\n",
        "rects1 = plt.bar(index, missing_values, bar_width, alpha=opacity, color='b', label='Missing')\n",
        "rects2 = plt.bar(index + bar_width, correlations, bar_width, alpha=opacity, color='g', label='Correlation')\n",
        "\n",
        "plt.xlabel('Feature')\n",
        "plt.ylabel('Scores')\n",
        "plt.title('Scores by feature')\n",
        "plt.xticks(index + bar_width, features, rotation=90)\n",
        "plt.legend()\n",
        "\n",
        "plt.tight_layout()\n",
        "plt.show()\n"
      ]
    },
    {
      "cell_type": "code",
      "execution_count": null,
      "metadata": {},
      "outputs": [],
      "source": [
        "# Grab some rows of the df where the LotFrontage values are missing\n",
        "df[df['LotFrontage'].isnull()].head()"
      ]
    },
    {
      "cell_type": "code",
      "execution_count": null,
      "metadata": {},
      "outputs": [],
      "source": [
        "def correlation_ratio(categories, measurements):\n",
        "    fcat, _ = pd.factorize(categories)\n",
        "    cat_num = np.max(fcat)+1\n",
        "    y_avg_array = np.zeros(cat_num)\n",
        "    n_array = np.zeros(cat_num)\n",
        "    for i in range(0, cat_num):\n",
        "        cat_measures = measurements[np.argwhere(fcat == i).flatten()]\n",
        "        n_array[i] = len(cat_measures)\n",
        "        y_avg_array[i] = np.mean(cat_measures)\n",
        "    y_total_avg = np.sum(np.multiply(y_avg_array, n_array))/np.sum(n_array)\n",
        "    numerator = np.sum(np.multiply(n_array, np.power(np.subtract(y_avg_array, y_total_avg), 2)))\n",
        "    denominator = np.sum(np.power(np.subtract(measurements, y_total_avg), 2))\n",
        "    if numerator == 0:\n",
        "        eta = 0.0\n",
        "    else:\n",
        "        eta = np.sqrt(numerator/denominator)\n",
        "    return eta"
      ]
    },
    {
      "cell_type": "code",
      "execution_count": null,
      "metadata": {},
      "outputs": [],
      "source": [
        "# Applying the function to our DataFrame\n",
        "correlation_ratios = {}\n",
        "for category in categorical:\n",
        "    categories = df[category]\n",
        "    measurements = df['SalePrice']\n",
        "    eta = correlation_ratio(categories, measurements)\n",
        "    correlation_ratios[category] = eta"
      ]
    },
    {
      "cell_type": "code",
      "execution_count": null,
      "metadata": {},
      "outputs": [],
      "source": [
        "# Get the missing value counts for each categorical feature and store in a dict\n",
        "missing = {}\n",
        "for category in categorical:\n",
        "    missing[category] = df[category].isnull().sum()\n",
        "\n",
        "# Normalize the missing values to be expressed as a percentage of the overall count as a number between 0 and 1\n",
        "total = df.shape[0]\n",
        "for category in categorical:\n",
        "    missing[category] = missing[category] / total\n",
        "\n",
        "# Combine the missing and correlation_ratios into a single dict\n",
        "combined = {}\n",
        "for category in categorical:\n",
        "    combined[category] = (missing[category], correlation_ratios[category])"
      ]
    },
    {
      "cell_type": "code",
      "execution_count": null,
      "metadata": {},
      "outputs": [],
      "source": [
        "# Plot the combined correlation value and missing value counts into a single bar chart\n",
        "fig, ax = plt.subplots(figsize=(10, 8))\n",
        "index = np.arange(len(categorical))\n",
        "bar_width = 0.35\n",
        "opacity = 0.8\n",
        "\n",
        "missing_values = [val[0] for val in combined.values()]\n",
        "correlation_values = [val[1] for val in combined.values()]\n",
        "\n",
        "rects1 = plt.bar(index, missing_values, bar_width,\n",
        "alpha=opacity, color='b', label='Missing')\n",
        "\n",
        "rects2 = plt.bar(index + bar_width, correlation_values, bar_width,\n",
        "alpha=opacity, color='g', label='Correlation')\n",
        "\n",
        "plt.xlabel('Feature')\n",
        "plt.ylabel('Scores')\n",
        "plt.title('Scores by feature')\n",
        "plt.xticks(index + bar_width, categorical, rotation=90)\n",
        "plt.legend()\n",
        "\n",
        "plt.tight_layout()\n",
        "plt.show()"
      ]
    },
    {
      "cell_type": "code",
      "execution_count": null,
      "metadata": {},
      "outputs": [],
      "source": []
    }
  ],
  "metadata": {
    "kernelspec": {
      "display_name": "pytorch",
      "language": "python",
      "name": "python3"
    },
    "language_info": {
      "codemirror_mode": {
        "name": "ipython",
        "version": 3
      },
      "file_extension": ".py",
      "mimetype": "text/x-python",
      "name": "python",
      "nbconvert_exporter": "python",
      "pygments_lexer": "ipython3",
      "version": "3.11.6"
    }
  },
  "nbformat": 4,
  "nbformat_minor": 2
}