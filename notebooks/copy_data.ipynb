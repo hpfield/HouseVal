{
 "cells": [
  {
   "cell_type": "code",
   "execution_count": 6,
   "metadata": {},
   "outputs": [
    {
     "name": "stdout",
     "output_type": "stream",
     "text": [
      "Copied train_categorical_no_missing_vals_mean_imputed.csv\n",
      "Copied test_categorical_no_missing_vals_mean_imputed.csv\n",
      "Copied train_one-hot-encoded_no-missing_vals_mean_imputed.csv\n",
      "Copied train_one-hot-encoded_no-missing_vals_cols_removed copy.csv\n",
      "Copied train_numerical_mean_imputed.csv\n",
      "Copied test_cleaned.csv\n",
      "Copied train_categorical.csv\n",
      "Copied test_one-hot-encoded_no-missing_vals_mean_imputed.csv\n",
      "Copied train_one-hot-encoded.csv\n",
      "Copied train_cleaned.csv\n",
      "Copied train_no_missing_vals_cols_removed.csv\n",
      "Copied test_categorical.csv\n",
      "Copied train_one-hot-encoded_no-missing_vals_cols_removed.csv\n",
      "Copied test_categorical_no_missing_vals_cols_removed.csv\n",
      "Copied test_numerical_mean_imputed.csv\n",
      "Copied train_categorical_no_missing_vals_cols_removed.csv\n",
      "Copied test_one-hot-encoded_no-missing_vals_cols_removed copy.csv\n",
      "Copied test_one-hot-encoded.csv\n",
      "Copied test_one-hot-encoded_no-missing_vals_cols_removed.csv\n",
      "Copied test_no_missing_vals_cols_removed.csv\n"
     ]
    }
   ],
   "source": [
    "# Copy all data files from ../data/processed/ to ../src/data/\n",
    "\n",
    "import os\n",
    "import shutil\n",
    "\n",
    "src = '../data/processed/'\n",
    "dst = '../src/data/'\n",
    "\n",
    "for file in os.listdir(src):\n",
    "    # If file exists, replace it\n",
    "    shutil.copyfile(src + file, dst + file)\n",
    "    print('Copied', file)"
   ]
  },
  {
   "cell_type": "code",
   "execution_count": null,
   "metadata": {},
   "outputs": [],
   "source": []
  }
 ],
 "metadata": {
  "kernelspec": {
   "display_name": "pytorch",
   "language": "python",
   "name": "python3"
  },
  "language_info": {
   "codemirror_mode": {
    "name": "ipython",
    "version": 3
   },
   "file_extension": ".py",
   "mimetype": "text/x-python",
   "name": "python",
   "nbconvert_exporter": "python",
   "pygments_lexer": "ipython3",
   "version": "3.11.6"
  }
 },
 "nbformat": 4,
 "nbformat_minor": 2
}
