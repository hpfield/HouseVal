{
  "cells": [
    {
      "cell_type": "code",
      "execution_count": null,
      "metadata": {},
      "outputs": [],
      "source": [
        "# Copy all data files from ../data/processed/ to ../src/data/\n",
        "\n",
        "import os\n",
        "import shutil\n",
        "\n",
        "src = '../data/processed/'\n",
        "dst = '../src/data/'\n",
        "\n",
        "for file in os.listdir(src):\n",
        "    # If file exists, replace it\n",
        "    shutil.copyfile(src + file, dst + file)\n",
        "    print('Copied', file)"
      ]
    },
    {
      "cell_type": "code",
      "execution_count": null,
      "metadata": {},
      "outputs": [],
      "source": []
    }
  ],
  "metadata": {
    "kernelspec": {
      "display_name": "pytorch",
      "language": "python",
      "name": "python3"
    },
    "language_info": {
      "codemirror_mode": {
        "name": "ipython",
        "version": 3
      },
      "file_extension": ".py",
      "mimetype": "text/x-python",
      "name": "python",
      "nbconvert_exporter": "python",
      "pygments_lexer": "ipython3",
      "version": "3.11.6"
    }
  },
  "nbformat": 4,
  "nbformat_minor": 2
}